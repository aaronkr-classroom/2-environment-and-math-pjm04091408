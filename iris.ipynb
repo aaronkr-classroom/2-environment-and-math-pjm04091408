{
 "cells": [
  {
   "cell_type": "code",
   "execution_count": null,
   "id": "31bea9da",
   "metadata": {},
   "outputs": [],
   "source": [
    "\n",
    "# Markdown\n",
    "write your own MD concent from `slide 49`. "
   ]
  },
  {
   "cell_type": "code",
   "execution_count": null,
   "id": "6317d67c",
   "metadata": {},
   "outputs": [],
   "source": [
    "# 1. Hello python \n",
    "name = \"Jimin\"\n",
    "goals = ['learn ML', 'leanr DL', 'deeplt learn DL']\n",
    "\n",
    "print(\"Hello, \", name, \"!\")\n",
    "print(\"\"Hello,\" + name + \"!\")\n",
    "\n",
    "# for(1. starting point; 2 end condition; 4 increment;) {3 executiing code;}\n",
    "for g in goals: \n",
    "    print(\"-\", g)\n",
    "\n",
    "# if - elif - else\n",
    "if :learn ML\" in goals:\n",
    "    print(\"Let's learn ML!\")\n",
    " "
   ]
  }
 ],
 "metadata": {
  "kernelspec": {
   "display_name": "Python 3",
   "language": "python",
   "name": "python3"
  },
  "language_info": {
   "name": "python",
   "version": "3.12.11"
  }
 },
 "nbformat": 4,
 "nbformat_minor": 5
}
