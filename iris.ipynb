{
 "cells": [
  {
   "cell_type": "code",
   "execution_count": null,
   "id": "31bea9da",
   "metadata": {},
   "outputs": [
    {
     "ename": "",
     "evalue": "",
     "output_type": "error",
     "traceback": [
      "\u001b[1;31m'Python 3.12.11'(으)로 셀을 실행하려면 ipykernel 패키지가 필요합니다.\n",
      "\u001b[1;31m'ipykernel'을(를) Python 환경에 설치합니다. \n",
      "\u001b[1;31m명령: '/usr/bin/python -m pip install ipykernel -U --user --force-reinstall'"
     ]
    }
   ],
   "source": [
    "\n",
    "# Markdown\n",
    "write your own MD concent from slide 49. "
   ]
  },
  {
   "cell_type": "code",
   "execution_count": null,
   "id": "6317d67c",
   "metadata": {},
   "outputs": [],
   "source": [
    "# 1. Hello python \n",
    "name = \"Jimin\"\n",
    "goals = ['learn ML', 'leanr DL', 'deeplt learn DL']\n",
    "\n",
    "print(\"Hello, \", name, \"!\")\n",
    "print(\"\"Hello,\" + name + \"!\")\n",
    "\n",
    "# for(1. starting point; 2 end condition; 4 increment;) {3 executiing code;}\n",
    "for g in goals: \n",
    "    print(\"-\", g)\n",
    "\n",
    "# if - elif - else\n",
    "if :learn ML\" in goals:\n",
    "    print(\"Let's learn ML!\")\n",
    " "
   ]
  }
 ],
 "metadata": {
  "kernelspec": {
   "display_name": ".venv",
   "language": "python",
   "name": "python3"
  },
  "language_info": {
   "name": "python",
   "version": "3.12.11"
  }
 },
 "nbformat": 4,
 "nbformat_minor": 5
}
